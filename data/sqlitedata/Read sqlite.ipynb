{
 "cells": [
  {
   "cell_type": "code",
   "execution_count": 1,
   "metadata": {},
   "outputs": [],
   "source": [
    "import pandas as pd\n",
    "import sqlite3"
   ]
  },
  {
   "cell_type": "code",
   "execution_count": 3,
   "metadata": {},
   "outputs": [],
   "source": [
    "# Read sqlite query results into a pandas DataFrame\n",
    "con = sqlite3.connect(\"../Project 2/data1.sqlite\")\n",
    "df = pd.read_sql_query(\"SELECT * from alt_fuel\", con)"
   ]
  },
  {
   "cell_type": "code",
   "execution_count": 4,
   "metadata": {},
   "outputs": [
    {
     "name": "stdout",
     "output_type": "stream",
     "text": [
      "                                  Station Name       Street Address  \\\n",
      "0  City of Sacramento - Capitol Parking Garage            1015 L St   \n",
      "1                Los Angeles Convention Center   1201 S Figueroa St   \n",
      "2                LADWP - John Ferraro Building        111 N Hope St   \n",
      "3          Cherokee & Hollywood Parking Garage  1718 N Cherokee Ave   \n",
      "4                              CITYOFSANTAROSA   100 Santa Rosa Ave   \n",
      "\n",
      "          City State    ZIP    Latitude     Longitude Country  \n",
      "0   Sacramento    CA  95814  38.5783802     -121.4926      US  \n",
      "1  Los Angeles    CA  90015    34.04057   -118.268762      US  \n",
      "2  Los Angeles    CA  90012   34.057922     -118.2498      US  \n",
      "3  Los Angeles    CA  90028   34.102404   -118.334758      US  \n",
      "4   Santa Rosa    CA  95404  38.4378748  -122.7108967      US  \n"
     ]
    }
   ],
   "source": [
    "# Verify that result of SQL query is stored in the dataframe\n",
    "print(df.head())"
   ]
  },
  {
   "cell_type": "code",
   "execution_count": 5,
   "metadata": {},
   "outputs": [],
   "source": [
    "# Read sqlite query results into a pandas DataFrame\n",
    "con2 = sqlite3.connect(\"../Project 2/sales_data.sqlite\")\n",
    "df2 = pd.read_sql_query(\"SELECT * from sales_data\", con2)"
   ]
  },
  {
   "cell_type": "code",
   "execution_count": 6,
   "metadata": {},
   "outputs": [
    {
     "name": "stdout",
     "output_type": "stream",
     "text": [
      "           Vehicle  Type 2011 2012 2013   2014    2015   2016   2017   TOTAL\n",
      "0  Audi A3 Plug In  PHEV                                4,280  2,877   7,157\n",
      "1     BMW Active E    EV       965                                       965\n",
      "2           BMW i3    EV                 6,092  11,004  7,625  6,276  30,997\n",
      "3           BMW i8  PHEV                   555   2,265  1,594    488   4,902\n",
      "4           BMW X5  PHEV                           774  5,995  5,349  12,118\n"
     ]
    }
   ],
   "source": [
    "# Verify that result of SQL query is stored in the dataframe\n",
    "print(df2.head())"
   ]
  },
  {
   "cell_type": "code",
   "execution_count": 7,
   "metadata": {},
   "outputs": [],
   "source": [
    "# Read sqlite query results into a pandas DataFrame\n",
    "con3 = sqlite3.connect(\"../Project 2/reg_data.sqlite\")\n",
    "df3 = pd.read_sql_query(\"SELECT * from reg_data\", con3)"
   ]
  },
  {
   "cell_type": "code",
   "execution_count": 8,
   "metadata": {},
   "outputs": [
    {
     "name": "stdout",
     "output_type": "stream",
     "text": [
      "        State Aprx. Registration Count\n",
      "0     Alabama                     900 \n",
      "1      Alaska                     370 \n",
      "2     Arizona                   9,820 \n",
      "3    Arkansas                     270 \n",
      "4  California                 179,600 \n"
     ]
    }
   ],
   "source": [
    "# Verify that result of SQL query is stored in the dataframe\n",
    "print(df3.head())"
   ]
  }
 ],
 "metadata": {
  "kernelspec": {
   "display_name": "Python 3",
   "language": "python",
   "name": "python3"
  },
  "language_info": {
   "codemirror_mode": {
    "name": "ipython",
    "version": 3
   },
   "file_extension": ".py",
   "mimetype": "text/x-python",
   "name": "python",
   "nbconvert_exporter": "python",
   "pygments_lexer": "ipython3",
   "version": "3.6.8"
  }
 },
 "nbformat": 4,
 "nbformat_minor": 2
}
